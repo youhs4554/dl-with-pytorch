{
 "cells": [
  {
   "cell_type": "code",
   "execution_count": 2,
   "id": "77d3e30c",
   "metadata": {},
   "outputs": [],
   "source": [
    "import os"
   ]
  },
  {
   "cell_type": "code",
   "execution_count": 3,
   "id": "e931fd2a",
   "metadata": {},
   "outputs": [],
   "source": [
    "if not os.path.exists('./ImageCaptioning.pytorch'):\n",
    "    !git clone https://github.com/deep-learning-with-pytorch/ImageCaptioning.pytorch.git"
   ]
  },
  {
   "cell_type": "code",
   "execution_count": 4,
   "id": "ce8f9c7f",
   "metadata": {},
   "outputs": [
    {
     "name": "stdout",
     "output_type": "stream",
     "text": [
      "/Users/yuhosang/Projects/dl-with-pytorch/p1ch2/ImageCaptioning.pytorch\n"
     ]
    }
   ],
   "source": [
    "%cd ImageCaptioning.pytorch"
   ]
  },
  {
   "cell_type": "code",
   "execution_count": 5,
   "id": "2f0a164d",
   "metadata": {},
   "outputs": [
    {
     "name": "stdout",
     "output_type": "stream",
     "text": [
      "README.md        dataloaderraw.py \u001b[1m\u001b[36mmodels\u001b[m\u001b[m           \u001b[1m\u001b[36mvis\u001b[m\u001b[m\r\n",
      "\u001b[1m\u001b[36m__pycache__\u001b[m\u001b[m      eval.py          opts.py\r\n",
      "\u001b[1m\u001b[36mdata\u001b[m\u001b[m             eval_utils.py    \u001b[1m\u001b[36mscripts\u001b[m\u001b[m\r\n",
      "dataloader.py    \u001b[1m\u001b[36mmisc\u001b[m\u001b[m             train.py\r\n"
     ]
    }
   ],
   "source": [
    "!ls"
   ]
  },
  {
   "cell_type": "code",
   "execution_count": 6,
   "id": "4437e600",
   "metadata": {},
   "outputs": [],
   "source": [
    "!cp ../../data/p1ch2/horse.jpg ../../data/p1ch2/zebra.jpg ./data"
   ]
  },
  {
   "cell_type": "code",
   "execution_count": 7,
   "id": "448f90ff",
   "metadata": {},
   "outputs": [
    {
     "name": "stdout",
     "output_type": "stream",
     "text": [
      "DataLoaderRaw loading images from folder:  ./data\n",
      "0\n",
      "listing all images in directory ./data\n",
      "DataLoaderRaw found  2  images\n",
      "/Users/yuhosang/Projects/dl-with-pytorch/p1ch2/ImageCaptioning.pytorch/models/FCModel.py:147: UserWarning: Implicit dimension choice for log_softmax has been deprecated. Change the call to include dim=X as an argument.\n",
      "  logprobs = F.log_softmax(self.logit(output))\n",
      "/Users/yuhosang/Projects/dl-with-pytorch/p1ch2/ImageCaptioning.pytorch/models/FCModel.py:123: UserWarning: Implicit dimension choice for log_softmax has been deprecated. Change the call to include dim=X as an argument.\n",
      "  logprobs = F.log_softmax(self.logit(output))\n",
      "cp \"./data/horse.jpg\" vis/imgs/img1.jpg\n",
      "image 1: a person riding a horse on a beach\n",
      "cp \"./data/zebra.jpg\" vis/imgs/img2.jpg\n",
      "image 2: a zebra is standing in a field of grass\n",
      "cp \"./data/horse.jpg\" vis/imgs/img3.jpg\n",
      "image 1: a person riding a horse on a beach\n",
      "cp \"./data/zebra.jpg\" vis/imgs/img4.jpg\n",
      "image 2: a zebra is standing in a field of grass\n",
      "cp \"./data/horse.jpg\" vis/imgs/img5.jpg\n",
      "image 1: a person riding a horse on a beach\n",
      "cp \"./data/zebra.jpg\" vis/imgs/img6.jpg\n",
      "image 2: a zebra is standing in a field of grass\n",
      "cp \"./data/horse.jpg\" vis/imgs/img7.jpg\n",
      "image 1: a person riding a horse on a beach\n",
      "cp \"./data/zebra.jpg\" vis/imgs/img8.jpg\n",
      "image 2: a zebra is standing in a field of grass\n",
      "cp \"./data/horse.jpg\" vis/imgs/img9.jpg\n",
      "image 1: a person riding a horse on a beach\n",
      "cp \"./data/zebra.jpg\" vis/imgs/img10.jpg\n",
      "image 2: a zebra is standing in a field of grass\n",
      "evaluating validation preformance... -1/2 (0.000000)\n",
      "loss:  0.0\n"
     ]
    }
   ],
   "source": [
    "!python eval.py --model ./data/FC/fc-model.pth --infos_path ./data/FC/fc-infos.pkl --image_folder ./data"
   ]
  },
  {
   "cell_type": "code",
   "execution_count": null,
   "id": "57134ed8",
   "metadata": {},
   "outputs": [],
   "source": []
  }
 ],
 "metadata": {
  "kernelspec": {
   "display_name": "Python 3 (ipykernel)",
   "language": "python",
   "name": "python3"
  },
  "language_info": {
   "codemirror_mode": {
    "name": "ipython",
    "version": 3
   },
   "file_extension": ".py",
   "mimetype": "text/x-python",
   "name": "python",
   "nbconvert_exporter": "python",
   "pygments_lexer": "ipython3",
   "version": "3.8.16"
  }
 },
 "nbformat": 4,
 "nbformat_minor": 5
}

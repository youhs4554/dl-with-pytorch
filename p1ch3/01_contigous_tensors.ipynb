{
 "cells": [
  {
   "cell_type": "code",
   "execution_count": 1,
   "id": "de21535c",
   "metadata": {},
   "outputs": [],
   "source": [
    "import warnings\n",
    "warnings.filterwarnings(action='ignore')"
   ]
  },
  {
   "cell_type": "code",
   "execution_count": 2,
   "id": "4b83f490",
   "metadata": {},
   "outputs": [],
   "source": [
    "import torch"
   ]
  },
  {
   "cell_type": "code",
   "execution_count": 3,
   "id": "20cce10a",
   "metadata": {},
   "outputs": [],
   "source": [
    "points = torch.tensor([[4.0, 1.0], [5.0, 3.0], [2.0, 1.0]])"
   ]
  },
  {
   "cell_type": "code",
   "execution_count": 4,
   "id": "a67c8c7a",
   "metadata": {},
   "outputs": [
    {
     "data": {
      "text/plain": [
       "torch.Size([3, 2])"
      ]
     },
     "execution_count": 4,
     "metadata": {},
     "output_type": "execute_result"
    }
   ],
   "source": [
    "points.shape"
   ]
  },
  {
   "cell_type": "code",
   "execution_count": 5,
   "id": "a6d4f6b0",
   "metadata": {},
   "outputs": [
    {
     "data": {
      "text/plain": [
       " 4.0\n",
       " 1.0\n",
       " 5.0\n",
       " 3.0\n",
       " 2.0\n",
       " 1.0\n",
       "[torch.storage.TypedStorage(dtype=torch.float32, device=cpu) of size 6]"
      ]
     },
     "execution_count": 5,
     "metadata": {},
     "output_type": "execute_result"
    }
   ],
   "source": [
    "points.storage()"
   ]
  },
  {
   "cell_type": "markdown",
   "id": "1be8cdae",
   "metadata": {},
   "source": [
    "### stride의 정의 : 각 차원이 1증가할 때 storage 배열상에서 건너 뛰어야하는 원소의 개수의 튜플\n",
    "    \n",
    "- points의 경우, stride가 (2,1)임.\n",
    "- 이는 첫번째 차원이 1증가할때 storage에서 2개의 원소를 건너뛰어야하고, 두번째 차원의 경우 1개의 원소를 건너뜀을 의미"
   ]
  },
  {
   "cell_type": "code",
   "execution_count": 6,
   "id": "3471add9",
   "metadata": {},
   "outputs": [
    {
     "data": {
      "text/plain": [
       "(2, 1)"
      ]
     },
     "execution_count": 6,
     "metadata": {},
     "output_type": "execute_result"
    }
   ],
   "source": [
    "points.stride() "
   ]
  },
  {
   "cell_type": "code",
   "execution_count": 7,
   "id": "91b8da35",
   "metadata": {},
   "outputs": [
    {
     "data": {
      "text/plain": [
       "2"
      ]
     },
     "execution_count": 7,
     "metadata": {},
     "output_type": "execute_result"
    }
   ],
   "source": [
    "points.storage().tolist().index(points[1, 0])"
   ]
  },
  {
   "cell_type": "code",
   "execution_count": 8,
   "id": "92d8f8ef",
   "metadata": {},
   "outputs": [
    {
     "name": "stdout",
     "output_type": "stream",
     "text": [
      "01_contigous_tensors.ipynb noncontiguous_tensor.png\r\n",
      "contiguous_tensor.png\r\n"
     ]
    }
   ],
   "source": [
    "!ls"
   ]
  },
  {
   "attachments": {},
   "cell_type": "markdown",
   "id": "699d0012",
   "metadata": {},
   "source": [
    "### contiguous의 정의\n",
    ">Contiguous(인접한, 근접한)는 단어의 뜻처럼 Tensor의 각 값들이 메모리에도 순차적으로 저장되어 있는지 여부\n",
    "\n",
    "| ![](contiguous_tensor.png) |\n",
    "|:--:|\n",
    "| <b>contiguous tensor: 요소들이 메모리에 연속적으로 저장되어있음</b>|\n",
    "\n",
    "| ![](noncontiguous_tensor.png) |\n",
    "|:--:|\n",
    "| <b>noncontiguous tensor: 이런식으로 요소들이 메모리에 연속적으로 저장되어 있지 않으면 contiguous하지 않음\n",
    "</b>|\n",
    "\n",
    "- view 함수는 contigous한 텐서에 대해서만 사용가능\n",
    "- 파이토치에서 contigous관련 warning을 줌\n",
    "- contiguous 텐서는 값 순회 시 띄엄띄엄 참조하지 않기 때문에 데이터 지역성 관점에서 CPU 메모리 접근효율 좋음"
   ]
  },
  {
   "cell_type": "code",
   "execution_count": 9,
   "id": "afc6505b",
   "metadata": {},
   "outputs": [
    {
     "data": {
      "text/plain": [
       "True"
      ]
     },
     "execution_count": 9,
     "metadata": {},
     "output_type": "execute_result"
    }
   ],
   "source": [
    "points.is_contiguous()"
   ]
  },
  {
   "cell_type": "code",
   "execution_count": 10,
   "id": "853e4931",
   "metadata": {},
   "outputs": [
    {
     "data": {
      "text/plain": [
       " 4.0\n",
       " 1.0\n",
       " 5.0\n",
       " 3.0\n",
       " 2.0\n",
       " 1.0\n",
       "[torch.storage.TypedStorage(dtype=torch.float32, device=cpu) of size 6]"
      ]
     },
     "execution_count": 10,
     "metadata": {},
     "output_type": "execute_result"
    }
   ],
   "source": [
    "points.storage()"
   ]
  },
  {
   "cell_type": "code",
   "execution_count": 11,
   "id": "140d5711",
   "metadata": {},
   "outputs": [
    {
     "data": {
      "text/plain": [
       "(2, 1)"
      ]
     },
     "execution_count": 11,
     "metadata": {},
     "output_type": "execute_result"
    }
   ],
   "source": [
    "points.stride()"
   ]
  },
  {
   "cell_type": "markdown",
   "id": "8a790c0e",
   "metadata": {},
   "source": [
    "`points` 텐서는 메모리에 연속적으로 저장되어있을 텐데, (통상적으로 contiguous 텐서의 stride는 오른쪽 차원에서 시작해서 증가함)"
   ]
  },
  {
   "cell_type": "code",
   "execution_count": 12,
   "id": "8a8e0176",
   "metadata": {},
   "outputs": [],
   "source": [
    "points_t = points.T"
   ]
  },
  {
   "cell_type": "markdown",
   "id": "28b8495d",
   "metadata": {},
   "source": [
    "여기서 transpose를 해주면 "
   ]
  },
  {
   "cell_type": "code",
   "execution_count": 13,
   "id": "8b77050e",
   "metadata": {},
   "outputs": [
    {
     "data": {
      "text/plain": [
       "(1, 2)"
      ]
     },
     "execution_count": 13,
     "metadata": {},
     "output_type": "execute_result"
    }
   ],
   "source": [
    "points_t.stride()"
   ]
  },
  {
   "cell_type": "markdown",
   "id": "6b29280a",
   "metadata": {},
   "source": [
    "stride 값이 뒤바뀌면서 contigous해지지 않게 된다!"
   ]
  },
  {
   "cell_type": "code",
   "execution_count": 14,
   "id": "e97af49e",
   "metadata": {},
   "outputs": [
    {
     "data": {
      "text/plain": [
       "False"
      ]
     },
     "execution_count": 14,
     "metadata": {},
     "output_type": "execute_result"
    }
   ],
   "source": [
    "points_t.is_contiguous()"
   ]
  },
  {
   "cell_type": "markdown",
   "id": "8c3e3686",
   "metadata": {},
   "source": [
    "torch의 contiguous() 함수를 통해 contiguous 텐서로 변환할 수 있다"
   ]
  },
  {
   "cell_type": "code",
   "execution_count": 15,
   "id": "5fc26aa8",
   "metadata": {},
   "outputs": [],
   "source": [
    "points_t_cont = points_t.contiguous()"
   ]
  },
  {
   "cell_type": "markdown",
   "id": "c37e9e62",
   "metadata": {},
   "source": [
    "stride가 contiguous하게 변경된 것을 볼 수 있고"
   ]
  },
  {
   "cell_type": "code",
   "execution_count": 16,
   "id": "21884bf1",
   "metadata": {},
   "outputs": [
    {
     "data": {
      "text/plain": [
       " 4.0\n",
       " 1.0\n",
       " 5.0\n",
       " 3.0\n",
       " 2.0\n",
       " 1.0\n",
       "[torch.storage.TypedStorage(dtype=torch.float32, device=cpu) of size 6]"
      ]
     },
     "execution_count": 16,
     "metadata": {},
     "output_type": "execute_result"
    }
   ],
   "source": [
    "points_t.storage()"
   ]
  },
  {
   "cell_type": "code",
   "execution_count": 17,
   "id": "563a1733",
   "metadata": {},
   "outputs": [
    {
     "data": {
      "text/plain": [
       " 4.0\n",
       " 5.0\n",
       " 2.0\n",
       " 1.0\n",
       " 3.0\n",
       " 1.0\n",
       "[torch.storage.TypedStorage(dtype=torch.float32, device=cpu) of size 6]"
      ]
     },
     "execution_count": 17,
     "metadata": {},
     "output_type": "execute_result"
    }
   ],
   "source": [
    "points_t_cont.storage()"
   ]
  },
  {
   "cell_type": "markdown",
   "id": "e631ac43",
   "metadata": {},
   "source": [
    "contiguous()함수를 사용하기 전과 비교하여 storage가 재편성 된 것을 볼 수있고 이에 따라 stride도 변경 되었다"
   ]
  },
  {
   "cell_type": "code",
   "execution_count": 18,
   "id": "8b4e84b3",
   "metadata": {},
   "outputs": [
    {
     "data": {
      "text/plain": [
       "(3, 1)"
      ]
     },
     "execution_count": 18,
     "metadata": {},
     "output_type": "execute_result"
    }
   ],
   "source": [
    "points_t_cont.stride() # (1,3) -> (3,1)로 변경"
   ]
  },
  {
   "cell_type": "markdown",
   "id": "2280f7dd",
   "metadata": {},
   "source": [
    "3차원 텐서에서도 contigousity를 체크해보면"
   ]
  },
  {
   "cell_type": "code",
   "execution_count": 19,
   "id": "457b6667",
   "metadata": {},
   "outputs": [
    {
     "data": {
      "text/plain": [
       "(9, 3, 1)"
      ]
     },
     "execution_count": 19,
     "metadata": {},
     "output_type": "execute_result"
    }
   ],
   "source": [
    "any_t = torch.arange(18).view(2,3,3)\n",
    "any_t.stride()"
   ]
  },
  {
   "cell_type": "code",
   "execution_count": 20,
   "id": "60c00f4a",
   "metadata": {},
   "outputs": [
    {
     "data": {
      "text/plain": [
       "True"
      ]
     },
     "execution_count": 20,
     "metadata": {},
     "output_type": "execute_result"
    }
   ],
   "source": [
    "any_t.is_contiguous()"
   ]
  },
  {
   "cell_type": "markdown",
   "id": "5887b36a",
   "metadata": {},
   "source": [
    "2차원때와 마찬가지로 `any_t` 텐서는 stride가 오른쪽 차원에서 시작해서 증가하기 때문에 contigous하고"
   ]
  },
  {
   "cell_type": "code",
   "execution_count": 21,
   "id": "59b80392",
   "metadata": {},
   "outputs": [
    {
     "data": {
      "text/plain": [
       "(9, 1, 3)"
      ]
     },
     "execution_count": 21,
     "metadata": {},
     "output_type": "execute_result"
    }
   ],
   "source": [
    "any_t_perm = any_t.permute(0,2,1)\n",
    "any_t_perm.stride()"
   ]
  },
  {
   "cell_type": "markdown",
   "id": "527cc3ed",
   "metadata": {},
   "source": [
    ".permute() 함수로 차원을 swap해준뒤 stride가 contiguousity 규칙에 위반되어 non-contiguous한 것을 확인"
   ]
  },
  {
   "cell_type": "code",
   "execution_count": 22,
   "id": "cc664db4",
   "metadata": {},
   "outputs": [
    {
     "data": {
      "text/plain": [
       "False"
      ]
     },
     "execution_count": 22,
     "metadata": {},
     "output_type": "execute_result"
    }
   ],
   "source": [
    "any_t_perm.is_contiguous()"
   ]
  },
  {
   "cell_type": "markdown",
   "id": "141ea48e",
   "metadata": {},
   "source": [
    "noncontigous한 `any_t_perm` 텐서에 view 함수를 적용해보면"
   ]
  },
  {
   "cell_type": "code",
   "execution_count": 23,
   "id": "711f7cf3",
   "metadata": {},
   "outputs": [
    {
     "ename": "RuntimeError",
     "evalue": "view size is not compatible with input tensor's size and stride (at least one dimension spans across two contiguous subspaces). Use .reshape(...) instead.",
     "output_type": "error",
     "traceback": [
      "\u001b[0;31m---------------------------------------------------------------------------\u001b[0m",
      "\u001b[0;31mRuntimeError\u001b[0m                              Traceback (most recent call last)",
      "Cell \u001b[0;32mIn[23], line 1\u001b[0m\n\u001b[0;32m----> 1\u001b[0m \u001b[43many_t_perm\u001b[49m\u001b[38;5;241;43m.\u001b[39;49m\u001b[43mview\u001b[49m\u001b[43m(\u001b[49m\u001b[38;5;241;43m2\u001b[39;49m\u001b[43m,\u001b[49m\u001b[43m \u001b[49m\u001b[38;5;241;43m-\u001b[39;49m\u001b[38;5;241;43m1\u001b[39;49m\u001b[43m)\u001b[49m\n",
      "\u001b[0;31mRuntimeError\u001b[0m: view size is not compatible with input tensor's size and stride (at least one dimension spans across two contiguous subspaces). Use .reshape(...) instead."
     ]
    }
   ],
   "source": [
    "any_t_perm.view(2, -1) # (2, 3*3)으로 shape를 변경 시도"
   ]
  },
  {
   "cell_type": "markdown",
   "id": "d45e007d",
   "metadata": {},
   "source": [
    "contigous하지 않다고 오류가 난다"
   ]
  },
  {
   "cell_type": "code",
   "execution_count": 24,
   "id": "f6f1ff36",
   "metadata": {},
   "outputs": [
    {
     "data": {
      "text/plain": [
       "torch.Size([2, 9])"
      ]
     },
     "execution_count": 24,
     "metadata": {},
     "output_type": "execute_result"
    }
   ],
   "source": [
    "any_t.view(2, -1).shape # (2, 3*3)으로 shape 변경 시도"
   ]
  },
  {
   "cell_type": "markdown",
   "id": "07129dec",
   "metadata": {},
   "source": [
    "contigous 텐서인 `any_t`는 view가 잘 적용되는 것을 볼 수 있다"
   ]
  },
  {
   "cell_type": "markdown",
   "id": "f1272736",
   "metadata": {},
   "source": [
    "torch의 contiguous() 함수를 통해 contiguous 텐서로 변환해주면 view를 사용할 때 발생하는 오류를 해결할 수 있다"
   ]
  },
  {
   "cell_type": "code",
   "execution_count": 25,
   "id": "4f2a60a1",
   "metadata": {},
   "outputs": [
    {
     "data": {
      "text/plain": [
       "True"
      ]
     },
     "execution_count": 25,
     "metadata": {},
     "output_type": "execute_result"
    }
   ],
   "source": [
    "any_t_perm_contigous = any_t_perm.contiguous()\n",
    "any_t_perm_contigous.is_contiguous()"
   ]
  },
  {
   "cell_type": "code",
   "execution_count": 26,
   "id": "d5adbbf3",
   "metadata": {},
   "outputs": [
    {
     "data": {
      "text/plain": [
       "torch.Size([2, 9])"
      ]
     },
     "execution_count": 26,
     "metadata": {},
     "output_type": "execute_result"
    }
   ],
   "source": [
    "any_t_perm_contigous.view(2, -1).shape # (2, 3*3)으로 shape 변경 시도"
   ]
  },
  {
   "cell_type": "markdown",
   "id": "5d4518e0",
   "metadata": {},
   "source": [
    "오류없이 성공적으로 shape를 변경 가능한 것을 볼수 있다"
   ]
  },
  {
   "cell_type": "code",
   "execution_count": 27,
   "id": "ebd34adf",
   "metadata": {},
   "outputs": [
    {
     "data": {
      "text/plain": [
       "(9, 3, 1)"
      ]
     },
     "execution_count": 27,
     "metadata": {},
     "output_type": "execute_result"
    }
   ],
   "source": [
    "any_t_perm_contigous.stride()"
   ]
  },
  {
   "cell_type": "markdown",
   "id": "215ef6dd",
   "metadata": {},
   "source": [
    "stride를 확인해보면 contigous하게 바뀐 것을 확인 할 수 있다"
   ]
  },
  {
   "cell_type": "code",
   "execution_count": 28,
   "id": "bf506c56",
   "metadata": {},
   "outputs": [
    {
     "data": {
      "text/plain": [
       " 0\n",
       " 1\n",
       " 2\n",
       " 3\n",
       " 4\n",
       " 5\n",
       " 6\n",
       " 7\n",
       " 8\n",
       " 9\n",
       " 10\n",
       " 11\n",
       " 12\n",
       " 13\n",
       " 14\n",
       " 15\n",
       " 16\n",
       " 17\n",
       "[torch.storage.TypedStorage(dtype=torch.int64, device=cpu) of size 18]"
      ]
     },
     "execution_count": 28,
     "metadata": {},
     "output_type": "execute_result"
    }
   ],
   "source": [
    "any_t_perm.storage()"
   ]
  },
  {
   "cell_type": "code",
   "execution_count": 29,
   "id": "d26df5da",
   "metadata": {},
   "outputs": [
    {
     "data": {
      "text/plain": [
       " 0\n",
       " 3\n",
       " 6\n",
       " 1\n",
       " 4\n",
       " 7\n",
       " 2\n",
       " 5\n",
       " 8\n",
       " 9\n",
       " 12\n",
       " 15\n",
       " 10\n",
       " 13\n",
       " 16\n",
       " 11\n",
       " 14\n",
       " 17\n",
       "[torch.storage.TypedStorage(dtype=torch.int64, device=cpu) of size 18]"
      ]
     },
     "execution_count": 29,
     "metadata": {},
     "output_type": "execute_result"
    }
   ],
   "source": [
    "any_t_perm_contigous.storage()"
   ]
  },
  {
   "cell_type": "markdown",
   "id": "1b6d59ba",
   "metadata": {},
   "source": [
    "또한, storage도 재배치 된 것을 확인할 수 있다"
   ]
  },
  {
   "cell_type": "code",
   "execution_count": 30,
   "id": "95527495",
   "metadata": {},
   "outputs": [
    {
     "data": {
      "text/plain": [
       "tensor([[[ 0,  3,  6],\n",
       "         [ 1,  4,  7],\n",
       "         [ 2,  5,  8]],\n",
       "\n",
       "        [[ 9, 12, 15],\n",
       "         [10, 13, 16],\n",
       "         [11, 14, 17]]])"
      ]
     },
     "execution_count": 30,
     "metadata": {},
     "output_type": "execute_result"
    }
   ],
   "source": [
    "any_t_perm_contigous"
   ]
  },
  {
   "cell_type": "code",
   "execution_count": 31,
   "id": "3126d05d",
   "metadata": {},
   "outputs": [
    {
     "data": {
      "text/plain": [
       "tensor([[[ 0,  1,  2],\n",
       "         [ 3,  4,  5],\n",
       "         [ 6,  7,  8]],\n",
       "\n",
       "        [[ 9, 10, 11],\n",
       "         [12, 13, 14],\n",
       "         [15, 16, 17]]])"
      ]
     },
     "execution_count": 31,
     "metadata": {},
     "output_type": "execute_result"
    }
   ],
   "source": [
    "any_t"
   ]
  },
  {
   "cell_type": "code",
   "execution_count": null,
   "id": "e59f3ea8",
   "metadata": {},
   "outputs": [],
   "source": []
  }
 ],
 "metadata": {
  "kernelspec": {
   "display_name": "Python 3 (ipykernel)",
   "language": "python",
   "name": "python3"
  },
  "language_info": {
   "codemirror_mode": {
    "name": "ipython",
    "version": 3
   },
   "file_extension": ".py",
   "mimetype": "text/x-python",
   "name": "python",
   "nbconvert_exporter": "python",
   "pygments_lexer": "ipython3",
   "version": "3.8.16"
  }
 },
 "nbformat": 4,
 "nbformat_minor": 5
}

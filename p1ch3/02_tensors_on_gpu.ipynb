{
 "cells": [
  {
   "cell_type": "markdown",
   "id": "e88b55c9",
   "metadata": {},
   "source": [
    "Apple's M1 mac device 사용을 고려한 device 할당"
   ]
  },
  {
   "cell_type": "code",
   "execution_count": 1,
   "id": "1a992c2d",
   "metadata": {},
   "outputs": [],
   "source": [
    "import torch\n",
    "\n",
    "if torch.backends.mps.is_available():\n",
    "    device = torch.device('mps') # Apple's M1\n",
    "else:\n",
    "    device = torch.device('cuda') if torch.cuda.is_available() else torch.device('cpu')"
   ]
  },
  {
   "cell_type": "code",
   "execution_count": 2,
   "id": "a0d92d4a",
   "metadata": {},
   "outputs": [
    {
     "data": {
      "text/plain": [
       "device(type='mps')"
      ]
     },
     "execution_count": 2,
     "metadata": {},
     "output_type": "execute_result"
    }
   ],
   "source": [
    "device"
   ]
  },
  {
   "cell_type": "code",
   "execution_count": 3,
   "id": "6b566bcb",
   "metadata": {},
   "outputs": [
    {
     "data": {
      "text/plain": [
       "tensor([[4., 1.],\n",
       "        [5., 3.],\n",
       "        [2., 1.]], device='mps:0')"
      ]
     },
     "execution_count": 3,
     "metadata": {},
     "output_type": "execute_result"
    }
   ],
   "source": [
    "points_gpu = torch.tensor([[4.0, 1.0], [5.0, 3.0], [2.0, 1.0]], device=device)\n",
    "points_gpu"
   ]
  },
  {
   "cell_type": "code",
   "execution_count": 4,
   "id": "4d8f8652",
   "metadata": {},
   "outputs": [
    {
     "data": {
      "text/plain": [
       "tensor([[4., 1.],\n",
       "        [5., 3.],\n",
       "        [2., 1.]], device='mps:0')"
      ]
     },
     "execution_count": 4,
     "metadata": {},
     "output_type": "execute_result"
    }
   ],
   "source": [
    "points = torch.tensor([[4.0, 1.0], [5.0, 3.0], [2.0, 1.0]]) # tensor on CPU\n",
    "points.to(device)"
   ]
  },
  {
   "cell_type": "code",
   "execution_count": 5,
   "id": "370f38d3",
   "metadata": {},
   "outputs": [],
   "source": [
    "points = 2 * points # CPU\n",
    "points_gpu = 2 * points.to(device) # GPU"
   ]
  },
  {
   "cell_type": "code",
   "execution_count": 6,
   "id": "31c19843",
   "metadata": {},
   "outputs": [
    {
     "data": {
      "text/plain": [
       "tensor([[20.,  8.],\n",
       "        [24., 16.],\n",
       "        [12.,  8.]], device='mps:0')"
      ]
     },
     "execution_count": 6,
     "metadata": {},
     "output_type": "execute_result"
    }
   ],
   "source": [
    "points_gpu = points_gpu + 4 # still running on GPU (no more CPU engage)\n",
    "points_gpu"
   ]
  },
  {
   "cell_type": "code",
   "execution_count": 7,
   "id": "3b9d443f",
   "metadata": {},
   "outputs": [
    {
     "data": {
      "text/plain": [
       "tensor([[20.,  8.],\n",
       "        [24., 16.],\n",
       "        [12.,  8.]])"
      ]
     },
     "execution_count": 7,
     "metadata": {},
     "output_type": "execute_result"
    }
   ],
   "source": [
    "points_cpu = points_gpu.to('cpu') # GPU -> CPU\n",
    "points_cpu"
   ]
  },
  {
   "cell_type": "code",
   "execution_count": 8,
   "id": "376eede4",
   "metadata": {},
   "outputs": [
    {
     "data": {
      "text/plain": [
       "tensor([[20.,  8.],\n",
       "        [24., 16.],\n",
       "        [12.,  8.]])"
      ]
     },
     "execution_count": 8,
     "metadata": {},
     "output_type": "execute_result"
    }
   ],
   "source": [
    "points_cpu = points_gpu.cpu() # GPU -> CPU\n",
    "points_cpu"
   ]
  },
  {
   "cell_type": "code",
   "execution_count": 9,
   "id": "12d77dd7",
   "metadata": {},
   "outputs": [
    {
     "data": {
      "text/plain": [
       "tensor([[20,  8],\n",
       "        [24, 16],\n",
       "        [12,  8]])"
      ]
     },
     "execution_count": 9,
     "metadata": {},
     "output_type": "execute_result"
    }
   ],
   "source": [
    "points_cpu_long = points_gpu.to('cpu', dtype=torch.long) # dtype : float -> long\n",
    "points_cpu_long"
   ]
  },
  {
   "cell_type": "code",
   "execution_count": 10,
   "id": "7d240228",
   "metadata": {},
   "outputs": [
    {
     "data": {
      "text/plain": [
       "tensor([[20,  8],\n",
       "        [24, 16],\n",
       "        [12,  8]], dtype=torch.int16)"
      ]
     },
     "execution_count": 10,
     "metadata": {},
     "output_type": "execute_result"
    }
   ],
   "source": [
    "points_cpu_short = points_gpu.to('cpu', dtype=torch.short) # dtype : float -> short\n",
    "points_cpu_short"
   ]
  },
  {
   "cell_type": "code",
   "execution_count": null,
   "id": "534b1508",
   "metadata": {},
   "outputs": [],
   "source": []
  }
 ],
 "metadata": {
  "kernelspec": {
   "display_name": "Python 3 (ipykernel)",
   "language": "python",
   "name": "python3"
  },
  "language_info": {
   "codemirror_mode": {
    "name": "ipython",
    "version": 3
   },
   "file_extension": ".py",
   "mimetype": "text/x-python",
   "name": "python",
   "nbconvert_exporter": "python",
   "pygments_lexer": "ipython3",
   "version": "3.8.16"
  }
 },
 "nbformat": 4,
 "nbformat_minor": 5
}

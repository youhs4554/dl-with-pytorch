{
 "cells": [
  {
   "cell_type": "code",
   "execution_count": 1,
   "id": "a11aa868",
   "metadata": {},
   "outputs": [],
   "source": [
    "from torchvision import datasets, transforms\n",
    "from pathlib import Path"
   ]
  },
  {
   "cell_type": "code",
   "execution_count": 2,
   "id": "c245e42f",
   "metadata": {},
   "outputs": [],
   "source": [
    "aug_transforms = transforms.Compose([\n",
    "    transforms.AutoAugment(),\n",
    "    transforms.ToTensor(),\n",
    "])"
   ]
  },
  {
   "cell_type": "code",
   "execution_count": 3,
   "id": "b0d6f9e7",
   "metadata": {},
   "outputs": [],
   "source": [
    "data_path = \"../data-unversioned/p1ch7/\"\n",
    "download = not Path(data_path).exists()\n",
    "cifar10 = datasets.CIFAR10(data_path, train=True, \n",
    "                           transform=aug_transforms, download=download)\n",
    "cifar10_val = datasets.CIFAR10(data_path, train=False, \n",
    "                               transform=transforms.ToTensor(), download=download)"
   ]
  },
  {
   "cell_type": "code",
   "execution_count": 4,
   "id": "818cd0b6",
   "metadata": {},
   "outputs": [],
   "source": [
    "label_map = {0: 0, 2: 1}\n",
    "class_names = ['airplane', 'bird']\n",
    "cifar2 = [ (img, label_map[label]) for img, label in cifar10 if label in [0,2]]\n",
    "cifar2_val = [ (img, label_map[label]) for img, label in cifar10_val if label in [0,2]]"
   ]
  },
  {
   "cell_type": "markdown",
   "id": "aff6f264",
   "metadata": {},
   "source": [
    "## 데이터 확인"
   ]
  },
  {
   "cell_type": "code",
   "execution_count": 5,
   "id": "f37b41c0",
   "metadata": {},
   "outputs": [],
   "source": [
    "import matplotlib.pyplot as plt\n",
    "import torch\n",
    "import numpy as np"
   ]
  },
  {
   "cell_type": "code",
   "execution_count": 6,
   "id": "899a9b70",
   "metadata": {},
   "outputs": [
    {
     "name": "stdout",
     "output_type": "stream",
     "text": [
      "Airplane index: 4, Bird index: 3\n"
     ]
    }
   ],
   "source": [
    "airplane_ix, bird_ix = None, None\n",
    "for ix in range(len(cifar2)):\n",
    "    _, label = cifar2[ix]\n",
    "    if label == 0:\n",
    "        airplane_ix = ix\n",
    "    elif label == 1:\n",
    "        bird_ix = ix\n",
    "    \n",
    "    if (airplane_ix is not None) and (bird_ix is not None):\n",
    "        break\n",
    "        \n",
    "print(f\"Airplane index: {airplane_ix}, Bird index: {bird_ix}\")"
   ]
  },
  {
   "cell_type": "code",
   "execution_count": 7,
   "id": "f03197b3",
   "metadata": {},
   "outputs": [
    {
     "data": {
      "text/plain": [
       "Text(0.5, 1.0, 'bird')"
      ]
     },
     "execution_count": 7,
     "metadata": {},
     "output_type": "execute_result"
    },
    {
     "data": {
      "image/png": "[encoded data removed]",
      "text/plain": [
       "<Figure size 640x480 with 2 Axes>"
      ]
     },
     "metadata": {},
     "output_type": "display_data"
    }
   ],
   "source": [
    "plt.subplot(121)\n",
    "img, label = cifar2[airplane_ix]\n",
    "plt.imshow(img.permute(1,2,0)); plt.title('airplane')\n",
    "plt.subplot(122)\n",
    "img, label = cifar2[bird_ix]\n",
    "plt.imshow(img.permute(1,2,0)); plt.title('bird')"
   ]
  },
  {
   "cell_type": "markdown",
   "id": "0e7d1b05",
   "metadata": {},
   "source": [
    "## Model"
   ]
  },
  {
   "cell_type": "code",
   "execution_count": 8,
   "id": "254b128e",
   "metadata": {},
   "outputs": [],
   "source": [
    "import torch.nn as nn"
   ]
  },
  {
   "cell_type": "code",
   "execution_count": 9,
   "id": "b4868afe",
   "metadata": {},
   "outputs": [
    {
     "data": {
      "text/plain": [
       "Sequential(\n",
       "  (0): Linear(in_features=3072, out_features=512, bias=True)\n",
       "  (1): Tanh()\n",
       "  (2): Linear(in_features=512, out_features=2, bias=True)\n",
       ")"
      ]
     },
     "execution_count": 9,
     "metadata": {},
     "output_type": "execute_result"
    }
   ],
   "source": [
    "n_out = 2\n",
    "\n",
    "model = nn.Sequential(\n",
    "    nn.Linear(32*32*3, 512),\n",
    "    nn.Tanh(),\n",
    "    nn.Linear(512, n_out)\n",
    ")\n",
    "\n",
    "model"
   ]
  },
  {
   "cell_type": "markdown",
   "id": "a39e20ad",
   "metadata": {},
   "source": [
    "## Softmax"
   ]
  },
  {
   "cell_type": "code",
   "execution_count": 10,
   "id": "1b29e392",
   "metadata": {},
   "outputs": [
    {
     "data": {
      "text/plain": [
       "tensor([0.0900, 0.2447, 0.6652])"
      ]
     },
     "execution_count": 10,
     "metadata": {},
     "output_type": "execute_result"
    }
   ],
   "source": [
    "def softmax(x):\n",
    "    return x.exp() / x.exp().sum()\n",
    "\n",
    "x = torch.tensor([1.0, 2.0, 3.0])\n",
    "softmax(x)"
   ]
  },
  {
   "cell_type": "code",
   "execution_count": 11,
   "id": "abe27774",
   "metadata": {},
   "outputs": [
    {
     "data": {
      "text/plain": [
       "tensor(1.)"
      ]
     },
     "execution_count": 11,
     "metadata": {},
     "output_type": "execute_result"
    }
   ],
   "source": [
    "softmax(x).sum()"
   ]
  },
  {
   "cell_type": "code",
   "execution_count": 12,
   "id": "92102590",
   "metadata": {},
   "outputs": [
    {
     "data": {
      "text/plain": [
       "tensor([[0.0900, 0.2447, 0.6652],\n",
       "        [0.0900, 0.2447, 0.6652]])"
      ]
     },
     "execution_count": 12,
     "metadata": {},
     "output_type": "execute_result"
    }
   ],
   "source": [
    "softmax = nn.Softmax(dim=1)\n",
    "x = torch.tensor([[1.0, 2.0, 3.0],\n",
    "                 [1.0, 2.0, 3.0]])\n",
    "softmax(x)"
   ]
  },
  {
   "cell_type": "code",
   "execution_count": 13,
   "id": "16acebfe",
   "metadata": {},
   "outputs": [
    {
     "data": {
      "text/plain": [
       "tensor([1., 1.])"
      ]
     },
     "execution_count": 13,
     "metadata": {},
     "output_type": "execute_result"
    }
   ],
   "source": [
    "softmax(x).sum(1)"
   ]
  },
  {
   "cell_type": "markdown",
   "id": "5eb04407",
   "metadata": {},
   "source": [
    "## Model with softmax"
   ]
  },
  {
   "cell_type": "code",
   "execution_count": 14,
   "id": "b09b8136",
   "metadata": {},
   "outputs": [],
   "source": [
    "model = nn.Sequential(\n",
    "    nn.Linear(32*32*3, 512),\n",
    "    nn.Tanh(),\n",
    "    nn.Linear(512, n_out),\n",
    "    nn.Softmax(dim=1)\n",
    ")"
   ]
  },
  {
   "cell_type": "code",
   "execution_count": 15,
   "id": "43a6995b",
   "metadata": {},
   "outputs": [
    {
     "data": {
      "image/png": "[encoded data removed]",
      "text/plain": [
       "<Figure size 640x480 with 1 Axes>"
      ]
     },
     "metadata": {},
     "output_type": "display_data"
    }
   ],
   "source": [
    "img, label = cifar2[0]\n",
    "\n",
    "plt.imshow(img.permute(1,2,0)); plt.title(class_names[label]); plt.show()"
   ]
  },
  {
   "cell_type": "code",
   "execution_count": 16,
   "id": "8eb10c2b",
   "metadata": {},
   "outputs": [],
   "source": [
    "img_batch = img.view(-1).unsqueeze(0)\n"
   ]
  },
  {
   "cell_type": "code",
   "execution_count": 17,
   "id": "e8c075c0",
   "metadata": {},
   "outputs": [
    {
     "data": {
      "text/plain": [
       "tensor([[0.4452, 0.5548]], grad_fn=<SoftmaxBackward0>)"
      ]
     },
     "execution_count": 17,
     "metadata": {},
     "output_type": "execute_result"
    }
   ],
   "source": [
    "out = model(img_batch)\n",
    "out"
   ]
  },
  {
   "cell_type": "code",
   "execution_count": 18,
   "id": "65578dcd",
   "metadata": {},
   "outputs": [
    {
     "data": {
      "text/plain": [
       "'bird'"
      ]
     },
     "execution_count": 18,
     "metadata": {},
     "output_type": "execute_result"
    }
   ],
   "source": [
    "_, index = torch.max(out, dim=1)\n",
    "class_names[index.item()]"
   ]
  },
  {
   "cell_type": "markdown",
   "id": "3fbdb609",
   "metadata": {},
   "source": [
    "## Model compatible with `NLLLoss`"
   ]
  },
  {
   "cell_type": "code",
   "execution_count": 19,
   "id": "517ff52a",
   "metadata": {},
   "outputs": [],
   "source": [
    "model = nn.Sequential(\n",
    "    nn.Linear(32*32*3, 512),\n",
    "    nn.Tanh(),\n",
    "    nn.Linear(512, n_out),\n",
    "    nn.LogSoftmax(dim=1)\n",
    ")"
   ]
  },
  {
   "cell_type": "code",
   "execution_count": 20,
   "id": "a3832207",
   "metadata": {},
   "outputs": [],
   "source": [
    "loss = nn.NLLLoss()"
   ]
  },
  {
   "cell_type": "code",
   "execution_count": 21,
   "id": "a42a271b",
   "metadata": {},
   "outputs": [
    {
     "data": {
      "text/plain": [
       "tensor(0.5489, grad_fn=<NllLossBackward0>)"
      ]
     },
     "execution_count": 21,
     "metadata": {},
     "output_type": "execute_result"
    }
   ],
   "source": [
    "img, label = cifar2[0]\n",
    "out = model(img.view(-1).unsqueeze(0))\n",
    "loss(out, torch.tensor([label]))"
   ]
  },
  {
   "cell_type": "markdown",
   "id": "507cf506",
   "metadata": {},
   "source": [
    "## Training"
   ]
  },
  {
   "cell_type": "code",
   "execution_count": 22,
   "id": "90a29fbd",
   "metadata": {},
   "outputs": [],
   "source": [
    "import torch\n",
    "\n",
    "# Check if GPU is available\n",
    "if torch.backends.mps.is_available():\n",
    "    device = torch.device(\"mps\")\n",
    "else:\n",
    "    device = torch.device(\"cpu\")\n",
    "    \n",
    "device = torch.device(\"cpu\")"
   ]
  },
  {
   "cell_type": "code",
   "execution_count": 23,
   "id": "1cae3bf0",
   "metadata": {},
   "outputs": [
    {
     "data": {
      "text/plain": [
       "Sequential(\n",
       "  (0): Linear(in_features=3072, out_features=512, bias=True)\n",
       "  (1): Tanh()\n",
       "  (2): Linear(in_features=512, out_features=2, bias=True)\n",
       "  (3): LogSoftmax(dim=1)\n",
       ")"
      ]
     },
     "execution_count": 23,
     "metadata": {},
     "output_type": "execute_result"
    }
   ],
   "source": [
    "model.to(device)"
   ]
  },
  {
   "cell_type": "code",
   "execution_count": 24,
   "id": "69385c5b",
   "metadata": {},
   "outputs": [
    {
     "name": "stdout",
     "output_type": "stream",
     "text": [
      "Epoch: 0, Loss: 0.5664\n",
      "Epoch: 1, Loss: 0.6661\n",
      "Epoch: 2, Loss: 0.7196\n",
      "Epoch: 3, Loss: 0.8176\n",
      "Epoch: 4, Loss: 1.1851\n",
      "Epoch: 5, Loss: 0.8232\n",
      "Epoch: 6, Loss: 1.5504\n",
      "Epoch: 7, Loss: 1.6449\n",
      "Epoch: 8, Loss: 1.9776\n",
      "Epoch: 9, Loss: 2.4918\n",
      "Epoch: 10, Loss: 2.1499\n",
      "Epoch: 11, Loss: 0.7769\n",
      "Epoch: 12, Loss: 3.9429\n",
      "Epoch: 13, Loss: 5.1815\n",
      "Epoch: 14, Loss: 2.2081\n",
      "Epoch: 15, Loss: 3.9928\n",
      "Epoch: 16, Loss: 4.4473\n",
      "Epoch: 17, Loss: 5.7964\n",
      "Epoch: 18, Loss: 2.3371\n",
      "Epoch: 19, Loss: 0.1455\n",
      "Epoch: 20, Loss: 3.5052\n",
      "Epoch: 21, Loss: 8.2367\n",
      "Epoch: 22, Loss: 3.9881\n",
      "Epoch: 23, Loss: 4.6422\n",
      "Epoch: 24, Loss: 2.4333\n",
      "Epoch: 25, Loss: 4.7288\n",
      "Epoch: 26, Loss: 10.9496\n",
      "Epoch: 27, Loss: 6.2192\n",
      "Epoch: 28, Loss: 4.5911\n",
      "Epoch: 29, Loss: 6.9770\n",
      "Epoch: 30, Loss: 2.1342\n",
      "Epoch: 31, Loss: 4.2715\n",
      "Epoch: 32, Loss: 1.9302\n",
      "Epoch: 33, Loss: 3.0932\n",
      "Epoch: 34, Loss: 0.3521\n",
      "Epoch: 35, Loss: 0.0403\n",
      "Epoch: 36, Loss: 1.4676\n",
      "Epoch: 37, Loss: 8.2515\n",
      "Epoch: 38, Loss: 3.0102\n",
      "Epoch: 39, Loss: 7.2635\n",
      "Epoch: 40, Loss: 2.2317\n",
      "Epoch: 41, Loss: 3.3419\n",
      "Epoch: 42, Loss: 0.0097\n",
      "Epoch: 43, Loss: 0.0002\n",
      "Epoch: 44, Loss: 1.5396\n",
      "Epoch: 45, Loss: 3.0104\n",
      "Epoch: 46, Loss: 2.7185\n",
      "Epoch: 47, Loss: 0.1473\n",
      "Epoch: 48, Loss: 1.5156\n",
      "Epoch: 49, Loss: 0.2561\n",
      "Epoch: 50, Loss: 0.0066\n",
      "Epoch: 51, Loss: 0.1145\n",
      "Epoch: 52, Loss: 0.1508\n",
      "Epoch: 53, Loss: 0.2530\n",
      "Epoch: 54, Loss: 0.0001\n",
      "Epoch: 55, Loss: 0.0090\n",
      "Epoch: 56, Loss: 2.2431\n",
      "Epoch: 57, Loss: 2.6771\n",
      "Epoch: 58, Loss: 0.7851\n",
      "Epoch: 59, Loss: 0.0405\n",
      "Epoch: 60, Loss: 1.2843\n",
      "Epoch: 61, Loss: 1.9070\n",
      "Epoch: 62, Loss: 4.2782\n",
      "Epoch: 63, Loss: 0.2932\n",
      "Epoch: 64, Loss: 0.0001\n",
      "Epoch: 65, Loss: 0.0081\n",
      "Epoch: 66, Loss: 0.1781\n",
      "Epoch: 67, Loss: 0.0807\n",
      "Epoch: 68, Loss: 5.3080\n",
      "Epoch: 69, Loss: 0.7341\n",
      "Epoch: 70, Loss: 0.0041\n",
      "Epoch: 71, Loss: 2.7422\n",
      "Epoch: 72, Loss: 0.0502\n",
      "Epoch: 73, Loss: 0.3024\n",
      "Epoch: 74, Loss: 2.0157\n",
      "Epoch: 75, Loss: 0.1329\n",
      "Epoch: 76, Loss: 0.2404\n",
      "Epoch: 77, Loss: 0.3315\n",
      "Epoch: 78, Loss: 2.0036\n",
      "Epoch: 79, Loss: 3.5817\n",
      "Epoch: 80, Loss: 0.3636\n",
      "Epoch: 81, Loss: 0.4981\n",
      "Epoch: 82, Loss: 5.1478\n",
      "Epoch: 83, Loss: 4.5863\n",
      "Epoch: 84, Loss: 10.8674\n",
      "Epoch: 85, Loss: 0.0000\n",
      "Epoch: 86, Loss: 0.5793\n",
      "Epoch: 87, Loss: 3.4488\n",
      "Epoch: 88, Loss: 1.1678\n",
      "Epoch: 89, Loss: 5.8074\n",
      "Epoch: 90, Loss: 8.7048\n",
      "Epoch: 91, Loss: 1.0665\n",
      "Epoch: 92, Loss: 2.2992\n",
      "Epoch: 93, Loss: 0.3487\n",
      "Epoch: 94, Loss: 0.4427\n",
      "Epoch: 95, Loss: 2.6528\n",
      "Epoch: 96, Loss: 1.2861\n",
      "Epoch: 97, Loss: 0.0197\n",
      "Epoch: 98, Loss: 5.0284\n",
      "Epoch: 99, Loss: 0.4977\n"
     ]
    }
   ],
   "source": [
    "lr = 1e-2\n",
    "\n",
    "optimizer = torch.optim.SGD(model.parameters(), lr=lr)\n",
    "loss_fn = nn.NLLLoss()\n",
    "\n",
    "n_epochs = 100\n",
    "\n",
    "for epoch in range(n_epochs):\n",
    "    for img, label in cifar2:\n",
    "        img = img.to(device)\n",
    "        label_t = torch.tensor([label]).to(device)\n",
    "        \n",
    "        out = model(img.view(-1).unsqueeze(0))\n",
    "        loss = loss_fn(out, label_t)\n",
    "        \n",
    "        optimizer.zero_grad()\n",
    "        loss.backward()\n",
    "        optimizer.step()\n",
    "        \n",
    "    print(f\"Epoch: {epoch}, Loss: {loss.item():.4f}\")"
   ]
  },
  {
   "cell_type": "markdown",
   "id": "4aea4a93",
   "metadata": {},
   "source": [
    "## Use dataloader for batched inputs"
   ]
  },
  {
   "cell_type": "code",
   "execution_count": 25,
   "id": "43869fe7",
   "metadata": {},
   "outputs": [
    {
     "name": "stdout",
     "output_type": "stream",
     "text": [
      "Epoch: 0, Loss: 0.7449\n",
      "Epoch: 1, Loss: 0.8439\n",
      "Epoch: 2, Loss: 0.6642\n",
      "Epoch: 3, Loss: 0.5224\n",
      "Epoch: 4, Loss: 0.4563\n",
      "Epoch: 5, Loss: 0.6982\n",
      "Epoch: 6, Loss: 0.5782\n",
      "Epoch: 7, Loss: 0.6113\n",
      "Epoch: 8, Loss: 0.9916\n",
      "Epoch: 9, Loss: 0.9982\n",
      "Epoch: 10, Loss: 0.8784\n",
      "Epoch: 11, Loss: 0.6609\n",
      "Epoch: 12, Loss: 0.7115\n",
      "Epoch: 13, Loss: 0.7566\n",
      "Epoch: 14, Loss: 0.6332\n",
      "Epoch: 15, Loss: 0.2595\n",
      "Epoch: 16, Loss: 0.6878\n",
      "Epoch: 17, Loss: 0.4097\n",
      "Epoch: 18, Loss: 0.8018\n",
      "Epoch: 19, Loss: 0.3940\n",
      "Epoch: 20, Loss: 0.5327\n",
      "Epoch: 21, Loss: 1.0153\n",
      "Epoch: 22, Loss: 0.5081\n",
      "Epoch: 23, Loss: 0.6180\n",
      "Epoch: 24, Loss: 0.6106\n",
      "Epoch: 25, Loss: 0.5061\n",
      "Epoch: 26, Loss: 0.6632\n",
      "Epoch: 27, Loss: 0.6283\n",
      "Epoch: 28, Loss: 0.6238\n",
      "Epoch: 29, Loss: 0.1312\n",
      "Epoch: 30, Loss: 0.5555\n",
      "Epoch: 31, Loss: 0.9666\n",
      "Epoch: 32, Loss: 0.9071\n",
      "Epoch: 33, Loss: 0.6794\n",
      "Epoch: 34, Loss: 0.7907\n",
      "Epoch: 35, Loss: 0.5724\n",
      "Epoch: 36, Loss: 0.6551\n",
      "Epoch: 37, Loss: 0.9139\n",
      "Epoch: 38, Loss: 0.7518\n",
      "Epoch: 39, Loss: 0.9561\n",
      "Epoch: 40, Loss: 1.0038\n",
      "Epoch: 41, Loss: 0.6367\n",
      "Epoch: 42, Loss: 0.7300\n",
      "Epoch: 43, Loss: 0.6194\n",
      "Epoch: 44, Loss: 0.7482\n",
      "Epoch: 45, Loss: 0.5864\n",
      "Epoch: 46, Loss: 0.6143\n",
      "Epoch: 47, Loss: 0.4774\n",
      "Epoch: 48, Loss: 0.5911\n",
      "Epoch: 49, Loss: 0.6427\n",
      "Epoch: 50, Loss: 0.6831\n",
      "Epoch: 51, Loss: 0.8923\n",
      "Epoch: 52, Loss: 0.5647\n",
      "Epoch: 53, Loss: 1.2339\n",
      "Epoch: 54, Loss: 0.3800\n",
      "Epoch: 55, Loss: 0.7090\n",
      "Epoch: 56, Loss: 0.3512\n",
      "Epoch: 57, Loss: 0.7435\n",
      "Epoch: 58, Loss: 0.4089\n",
      "Epoch: 59, Loss: 0.7437\n",
      "Epoch: 60, Loss: 0.5493\n",
      "Epoch: 61, Loss: 0.7593\n",
      "Epoch: 62, Loss: 0.8618\n",
      "Epoch: 63, Loss: 0.3475\n",
      "Epoch: 64, Loss: 0.3503\n",
      "Epoch: 65, Loss: 0.4728\n",
      "Epoch: 66, Loss: 0.6398\n",
      "Epoch: 67, Loss: 0.5451\n",
      "Epoch: 68, Loss: 0.8903\n",
      "Epoch: 69, Loss: 0.5094\n",
      "Epoch: 70, Loss: 0.6984\n",
      "Epoch: 71, Loss: 0.4498\n",
      "Epoch: 72, Loss: 0.4275\n",
      "Epoch: 73, Loss: 0.8193\n",
      "Epoch: 74, Loss: 0.7170\n",
      "Epoch: 75, Loss: 0.7317\n",
      "Epoch: 76, Loss: 0.6110\n",
      "Epoch: 77, Loss: 0.8924\n",
      "Epoch: 78, Loss: 0.6041\n",
      "Epoch: 79, Loss: 0.6504\n",
      "Epoch: 80, Loss: 0.5271\n",
      "Epoch: 81, Loss: 0.4315\n",
      "Epoch: 82, Loss: 0.3386\n",
      "Epoch: 83, Loss: 0.3865\n",
      "Epoch: 84, Loss: 0.5000\n",
      "Epoch: 85, Loss: 0.3689\n",
      "Epoch: 86, Loss: 0.2878\n",
      "Epoch: 87, Loss: 0.8158\n",
      "Epoch: 88, Loss: 0.3588\n",
      "Epoch: 89, Loss: 1.2162\n",
      "Epoch: 90, Loss: 0.5392\n",
      "Epoch: 91, Loss: 0.5750\n",
      "Epoch: 92, Loss: 0.7474\n",
      "Epoch: 93, Loss: 0.4674\n",
      "Epoch: 94, Loss: 0.5093\n",
      "Epoch: 95, Loss: 0.6172\n",
      "Epoch: 96, Loss: 0.5183\n",
      "Epoch: 97, Loss: 0.2239\n",
      "Epoch: 98, Loss: 1.1548\n",
      "Epoch: 99, Loss: 0.5979\n"
     ]
    }
   ],
   "source": [
    "train_loader = torch.utils.data.DataLoader(cifar2, batch_size=64, shuffle=True)\n",
    "\n",
    "lr = 1e-2\n",
    "\n",
    "optimizer = torch.optim.SGD(model.parameters(), lr=lr)\n",
    "loss_fn = nn.NLLLoss()\n",
    "\n",
    "n_epochs = 100\n",
    "\n",
    "for epoch in range(n_epochs):\n",
    "    for img, label in train_loader:\n",
    "        img = img.to(device)\n",
    "        label_t = label.to(device)\n",
    "        batch_size = img.shape[0]\n",
    "        \n",
    "        out = model(img.view(batch_size, -1))\n",
    "        loss = loss_fn(out, label_t)\n",
    "        \n",
    "        optimizer.zero_grad()\n",
    "        loss.backward()\n",
    "        optimizer.step()\n",
    "        \n",
    "    print(f\"Epoch: {epoch}, Loss: {loss.item():.4f}\")"
   ]
  },
  {
   "cell_type": "markdown",
   "id": "0c49ceb6",
   "metadata": {},
   "source": [
    "## Evaluate"
   ]
  },
  {
   "cell_type": "code",
   "execution_count": 26,
   "id": "2d340ff8",
   "metadata": {},
   "outputs": [
    {
     "name": "stdout",
     "output_type": "stream",
     "text": [
      "Accuracy :  0.7725\n"
     ]
    }
   ],
   "source": [
    "val_loader = torch.utils.data.DataLoader(cifar2_val, batch_size=64, shuffle=False)\n",
    "\n",
    "correct = 0\n",
    "total = 0\n",
    "with torch.no_grad():\n",
    "    for imgs, labels in val_loader:\n",
    "        batch_size = imgs.shape[0]\n",
    "        imgs = imgs.to(device)\n",
    "        outputs = model(imgs.view(batch_size, -1))\n",
    "        _, predicted = torch.max(outputs, dim=1)\n",
    "        total += labels.shape[0]\n",
    "        correct += int((predicted == labels).sum())\n",
    "        \n",
    "print(\"Accuracy : \", correct / total)"
   ]
  },
  {
   "cell_type": "code",
   "execution_count": 27,
   "id": "d8f2fdc2",
   "metadata": {},
   "outputs": [
    {
     "data": {
      "text/plain": [
       "Sequential(\n",
       "  (0): Linear(in_features=3072, out_features=512, bias=True)\n",
       "  (1): Tanh()\n",
       "  (2): Linear(in_features=512, out_features=2, bias=True)\n",
       "  (3): LogSoftmax(dim=1)\n",
       ")"
      ]
     },
     "execution_count": 27,
     "metadata": {},
     "output_type": "execute_result"
    }
   ],
   "source": [
    "model"
   ]
  },
  {
   "cell_type": "markdown",
   "id": "c9d26637",
   "metadata": {},
   "source": [
    "## Deeper network"
   ]
  },
  {
   "cell_type": "markdown",
   "id": "28bc714e",
   "metadata": {},
   "source": [
    "`CrossEntropyLoss`를 사용하면 output layer에서 `LogSoftmax` activation을 사용하지 않아도 된다"
   ]
  },
  {
   "cell_type": "code",
   "execution_count": 28,
   "id": "06a917d7",
   "metadata": {},
   "outputs": [],
   "source": [
    "model = nn.Sequential(\n",
    "    nn.Linear(32*32*3, 1024),\n",
    "    nn.Tanh(),\n",
    "    nn.Linear(1024, 512),\n",
    "    nn.Tanh(),\n",
    "    nn.Linear(512, 128),\n",
    "    nn.Tanh(),\n",
    "    nn.Linear(128, n_out)\n",
    ").to(device)"
   ]
  },
  {
   "cell_type": "code",
   "execution_count": 29,
   "id": "f2d9c290",
   "metadata": {},
   "outputs": [],
   "source": [
    "loss_fn = nn.CrossEntropyLoss() # loss_fn을 nn.CrossEntropyLoss를 사용"
   ]
  },
  {
   "cell_type": "markdown",
   "id": "030cc668",
   "metadata": {},
   "source": [
    "## Training the deeper model with CE loss"
   ]
  },
  {
   "cell_type": "code",
   "execution_count": 30,
   "id": "35b2dc77",
   "metadata": {},
   "outputs": [
    {
     "name": "stdout",
     "output_type": "stream",
     "text": [
      "Epoch: 0, Loss: 0.6824\n",
      "Epoch: 1, Loss: 0.6108\n",
      "Epoch: 2, Loss: 0.5956\n",
      "Epoch: 3, Loss: 0.6539\n",
      "Epoch: 4, Loss: 0.6186\n",
      "Epoch: 5, Loss: 0.6931\n",
      "Epoch: 6, Loss: 0.5484\n",
      "Epoch: 7, Loss: 0.7021\n",
      "Epoch: 8, Loss: 0.6365\n",
      "Epoch: 9, Loss: 0.7070\n",
      "Epoch: 10, Loss: 0.7656\n",
      "Epoch: 11, Loss: 0.5924\n",
      "Epoch: 12, Loss: 0.5805\n",
      "Epoch: 13, Loss: 0.6291\n",
      "Epoch: 14, Loss: 0.6035\n",
      "Epoch: 15, Loss: 0.7274\n",
      "Epoch: 16, Loss: 0.6117\n",
      "Epoch: 17, Loss: 0.7066\n",
      "Epoch: 18, Loss: 0.5106\n",
      "Epoch: 19, Loss: 0.8527\n",
      "Epoch: 20, Loss: 0.6843\n",
      "Epoch: 21, Loss: 0.5869\n",
      "Epoch: 22, Loss: 0.5029\n",
      "Epoch: 23, Loss: 0.5988\n",
      "Epoch: 24, Loss: 0.5773\n",
      "Epoch: 25, Loss: 0.8829\n",
      "Epoch: 26, Loss: 0.4868\n",
      "Epoch: 27, Loss: 0.4948\n",
      "Epoch: 28, Loss: 0.4139\n",
      "Epoch: 29, Loss: 0.6001\n",
      "Epoch: 30, Loss: 0.5553\n",
      "Epoch: 31, Loss: 0.4304\n",
      "Epoch: 32, Loss: 0.4131\n",
      "Epoch: 33, Loss: 0.5504\n",
      "Epoch: 34, Loss: 0.5835\n",
      "Epoch: 35, Loss: 0.5182\n",
      "Epoch: 36, Loss: 0.4280\n",
      "Epoch: 37, Loss: 0.5393\n",
      "Epoch: 38, Loss: 0.4735\n",
      "Epoch: 39, Loss: 0.5679\n",
      "Epoch: 40, Loss: 0.4396\n",
      "Epoch: 41, Loss: 0.5761\n",
      "Epoch: 42, Loss: 0.3508\n",
      "Epoch: 43, Loss: 0.4653\n",
      "Epoch: 44, Loss: 0.6544\n",
      "Epoch: 45, Loss: 0.5432\n",
      "Epoch: 46, Loss: 0.4066\n",
      "Epoch: 47, Loss: 0.5367\n",
      "Epoch: 48, Loss: 0.4559\n",
      "Epoch: 49, Loss: 0.4678\n",
      "Epoch: 50, Loss: 0.3622\n",
      "Epoch: 51, Loss: 0.4925\n",
      "Epoch: 52, Loss: 0.6370\n",
      "Epoch: 53, Loss: 0.3611\n",
      "Epoch: 54, Loss: 0.5650\n",
      "Epoch: 55, Loss: 0.5223\n",
      "Epoch: 56, Loss: 0.6786\n",
      "Epoch: 57, Loss: 0.3520\n",
      "Epoch: 58, Loss: 0.6854\n",
      "Epoch: 59, Loss: 0.6329\n",
      "Epoch: 60, Loss: 0.4362\n",
      "Epoch: 61, Loss: 0.6795\n",
      "Epoch: 62, Loss: 0.4000\n",
      "Epoch: 63, Loss: 0.4834\n",
      "Epoch: 64, Loss: 0.5373\n",
      "Epoch: 65, Loss: 0.6754\n",
      "Epoch: 66, Loss: 0.4659\n",
      "Epoch: 67, Loss: 0.2262\n",
      "Epoch: 68, Loss: 0.2897\n",
      "Epoch: 69, Loss: 0.4721\n",
      "Epoch: 70, Loss: 0.2368\n",
      "Epoch: 71, Loss: 0.4148\n",
      "Epoch: 72, Loss: 0.4016\n",
      "Epoch: 73, Loss: 0.6382\n",
      "Epoch: 74, Loss: 0.3651\n",
      "Epoch: 75, Loss: 0.4159\n",
      "Epoch: 76, Loss: 0.5879\n",
      "Epoch: 77, Loss: 0.1570\n",
      "Epoch: 78, Loss: 0.3051\n",
      "Epoch: 79, Loss: 0.4960\n",
      "Epoch: 80, Loss: 0.3362\n",
      "Epoch: 81, Loss: 0.2747\n",
      "Epoch: 82, Loss: 0.1974\n",
      "Epoch: 83, Loss: 0.4612\n",
      "Epoch: 84, Loss: 0.4911\n",
      "Epoch: 85, Loss: 0.3361\n",
      "Epoch: 86, Loss: 0.4232\n",
      "Epoch: 87, Loss: 0.4905\n",
      "Epoch: 88, Loss: 0.5957\n",
      "Epoch: 89, Loss: 0.5657\n",
      "Epoch: 90, Loss: 0.3480\n",
      "Epoch: 91, Loss: 0.7775\n",
      "Epoch: 92, Loss: 0.3048\n",
      "Epoch: 93, Loss: 0.2952\n",
      "Epoch: 94, Loss: 1.1203\n",
      "Epoch: 95, Loss: 0.1661\n",
      "Epoch: 96, Loss: 0.4026\n",
      "Epoch: 97, Loss: 0.4847\n",
      "Epoch: 98, Loss: 0.3576\n",
      "Epoch: 99, Loss: 0.2092\n"
     ]
    }
   ],
   "source": [
    "train_loader = torch.utils.data.DataLoader(cifar2, batch_size=64, shuffle=True)\n",
    "\n",
    "lr = 1e-2\n",
    "\n",
    "optimizer = torch.optim.SGD(model.parameters(), lr=lr)\n",
    "\n",
    "n_epochs = 100\n",
    "\n",
    "for epoch in range(n_epochs):\n",
    "    for img, label in train_loader:\n",
    "        img = img.to(device)\n",
    "        label_t = label.to(device)\n",
    "        batch_size = img.shape[0]\n",
    "        \n",
    "        out = model(img.view(batch_size, -1))\n",
    "        loss = loss_fn(out, label_t)\n",
    "        \n",
    "        optimizer.zero_grad()\n",
    "        loss.backward()\n",
    "        optimizer.step()\n",
    "        \n",
    "    print(f\"Epoch: {epoch}, Loss: {loss.item():.4f}\")"
   ]
  },
  {
   "cell_type": "markdown",
   "id": "44bba72a",
   "metadata": {},
   "source": [
    "## Evaluate"
   ]
  },
  {
   "cell_type": "code",
   "execution_count": 31,
   "id": "418771b9",
   "metadata": {},
   "outputs": [
    {
     "name": "stdout",
     "output_type": "stream",
     "text": [
      "Accuracy :  0.81\n"
     ]
    }
   ],
   "source": [
    "val_loader = torch.utils.data.DataLoader(cifar2_val, batch_size=64, shuffle=False)\n",
    "\n",
    "correct = 0\n",
    "total = 0\n",
    "with torch.no_grad():\n",
    "    for imgs, labels in val_loader:\n",
    "        batch_size = imgs.shape[0]\n",
    "        imgs = imgs.to(device)\n",
    "        outputs = model(imgs.view(batch_size, -1))\n",
    "        _, predicted = torch.max(outputs, dim=1)\n",
    "        total += labels.shape[0]\n",
    "        correct += int((predicted == labels).sum())\n",
    "        \n",
    "print(\"Accuracy : \", correct / total)"
   ]
  },
  {
   "cell_type": "code",
   "execution_count": null,
   "id": "3649fd4e",
   "metadata": {},
   "outputs": [],
   "source": []
  }
 ],
 "metadata": {
  "kernelspec": {
   "display_name": "Python 3 (ipykernel)",
   "language": "python",
   "name": "python3"
  },
  "language_info": {
   "codemirror_mode": {
    "name": "ipython",
    "version": 3
   },
   "file_extension": ".py",
   "mimetype": "text/x-python",
   "name": "python",
   "nbconvert_exporter": "python",
   "pygments_lexer": "ipython3",
   "version": "3.8.16"
  }
 },
 "nbformat": 4,
 "nbformat_minor": 5
}
